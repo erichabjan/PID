{
 "cells": [
  {
   "cell_type": "code",
   "execution_count": null,
   "metadata": {},
   "outputs": [],
   "source": [
    "import numpy as np\n",
    "import matplotlib.pyplot as plt\n",
    "from matplotlib.colors import LogNorm\n",
    "import pandas as pd\n",
    "\n",
    "import tensorflow as tf\n",
    "import tensorflow_datasets as tfds\n",
    "\n",
    "from sklearn.metrics import accuracy_score, confusion_matrix\n",
    "\n",
    "import seaborn as sns"
   ]
  },
  {
   "cell_type": "markdown",
   "metadata": {},
   "source": [
    "### Import data"
   ]
  },
  {
   "cell_type": "code",
   "execution_count": null,
   "metadata": {},
   "outputs": [],
   "source": [
    "file = \"pidTraining_LE.hdf5\"\n",
    "filename = \"/home/ech18004/PID/data/\" + file\n",
    "\n",
    "train_le = pd.read_hdf(filename, 'event1')\n",
    "\n",
    "file = \"pidTest_LE.hdf5\"\n",
    "filename = \"/home/ech18004/PID/data/\" + file\n",
    "\n",
    "test_le = pd.read_hdf(filename, 'event1')\n",
    "\n",
    "file = \"pidTraining_HE.hdf5\"\n",
    "filename = \"/home/ech18004/PID/data/\" + file\n",
    "\n",
    "train_he = pd.read_hdf(filename, 'event1')\n",
    "\n",
    "file = \"pidTest_HE.hdf5\"\n",
    "filename = \"/home/ech18004/PID/data/\" + file\n",
    "\n",
    "test_he = pd.read_hdf(filename, 'event1')"
   ]
  },
  {
   "cell_type": "markdown",
   "metadata": {},
   "source": [
    "### Print all labels in dataset"
   ]
  },
  {
   "cell_type": "code",
   "execution_count": null,
   "metadata": {},
   "outputs": [],
   "source": [
    "for i in range(len(train_le.columns)):\n",
    "    print(i, train_le.columns[i]) "
   ]
  },
  {
   "cell_type": "markdown",
   "metadata": {},
   "source": [
    "# Plot Low Energy data"
   ]
  },
  {
   "cell_type": "markdown",
   "metadata": {},
   "source": [
    "### Make the arrays to be plotted"
   ]
  },
  {
   "cell_type": "code",
   "execution_count": null,
   "metadata": {},
   "outputs": [],
   "source": [
    "y_dic = {1:'dEdxCDC', 2:'dEdxSc', 3:'dEdxFDC', 4:'dEdxTOF', 5:'tShower', 6:'tofTOF', 7:'tofSc', 8:'tFlights'}\n",
    "y_label = y_dic[8]\n",
    "\n",
    "x = np.sqrt(train_le['px']**2 + train_le['py']**2 + train_le['pz']**2)\n",
    "y = train_le[y_label]\n",
    "if y_label == 'tFlights':\n",
    "    y = np.array([y[i][3] for i in range(len(y))])\n",
    "\n",
    "x_plot = np.array([x[i] for i in range(len(x)) if ~np.isnan(x[i]) and ~np.isnan(y[i])])\n",
    "y_plot = np.array([y[i] for i in range(len(y)) if ~np.isnan(x[i]) and ~np.isnan(y[i])])\n",
    "\n",
    "y_len = len(y[~np.isnan(y)])\n",
    "y_len"
   ]
  },
  {
   "cell_type": "markdown",
   "metadata": {},
   "source": [
    "### Plot the data"
   ]
  },
  {
   "cell_type": "code",
   "execution_count": null,
   "metadata": {},
   "outputs": [],
   "source": [
    "fig = plt.figure()\n",
    "fig.set_size_inches(10, 8)\n",
    "\n",
    "bin_size = 250\n",
    "y_max = np.median(y[~np.isnan(y)]) * 10\n",
    "plt.hist2d(x_plot, y_plot, bins=(bin_size, bin_size), range=[[0, 1.2], [0, y_max]], cmap='viridis', norm = LogNorm())\n",
    "\n",
    "plt.xlabel('Momentum [GeV/c]')\n",
    "plt.ylabel(f'{y_label}')\n",
    "\n",
    "plt.colorbar()\n",
    "plt.show()"
   ]
  },
  {
   "cell_type": "markdown",
   "metadata": {},
   "source": [
    "# Plot the LE + HE data"
   ]
  },
  {
   "cell_type": "markdown",
   "metadata": {},
   "source": [
    "### Make lists to plot"
   ]
  },
  {
   "cell_type": "code",
   "execution_count": null,
   "metadata": {},
   "outputs": [],
   "source": [
    "y_dic = {1:'dEdxCDC', 2:'dEdxSc', 3:'dEdxFDC', 4:'dEdxTOF', 5:'tShower', 6:'tofTOF', 7:'tofSc'}\n",
    "y_label = y_dic[7]\n",
    "\n",
    "x_le = np.sqrt(train_le['px']**2 + train_le['py']**2 + train_le['pz']**2)\n",
    "x_he = np.sqrt(train_he['px']**2 + train_he['py']**2 + train_he['pz']**2)\n",
    "y_le = train_le[y_label]\n",
    "y_he = train_he[y_label]\n",
    "x = np.concatenate((x_le, x_he))\n",
    "y = np.concatenate((y_le, y_he))\n",
    "\n",
    "x_plot = np.array([x[i] for i in range(len(x)) if ~np.isnan(x[i]) and ~np.isnan(y[i])])\n",
    "y_plot = np.array([y[i] for i in range(len(y)) if ~np.isnan(x[i]) and ~np.isnan(y[i])])\n",
    "\n",
    "y_len = len(y[~np.isnan(y)])\n",
    "y_len"
   ]
  },
  {
   "cell_type": "markdown",
   "metadata": {},
   "source": [
    "### Plot the data"
   ]
  },
  {
   "cell_type": "code",
   "execution_count": null,
   "metadata": {},
   "outputs": [],
   "source": [
    "fig = plt.figure()\n",
    "fig.set_size_inches(10, 8)\n",
    "\n",
    "bin_size = 250\n",
    "y_max = np.median(y[~np.isnan(y)]) * 10\n",
    "plt.hist2d(x_plot, y_plot, bins=(bin_size, bin_size), range=[[0, 13], [0, y_max]], cmap='viridis', norm = LogNorm())\n",
    "\n",
    "plt.xlabel('Momentum [GeV/c]')\n",
    "plt.ylabel(f'{y_label}')\n",
    "plt.colorbar()\n",
    "plt.show()"
   ]
  }
 ],
 "metadata": {
  "kernelspec": {
   "display_name": ".venv",
   "language": "python",
   "name": "python3"
  },
  "language_info": {
   "codemirror_mode": {
    "name": "ipython",
    "version": 3
   },
   "file_extension": ".py",
   "mimetype": "text/x-python",
   "name": "python",
   "nbconvert_exporter": "python",
   "pygments_lexer": "ipython3",
   "version": "3.6.8"
  },
  "orig_nbformat": 4
 },
 "nbformat": 4,
 "nbformat_minor": 2
}
